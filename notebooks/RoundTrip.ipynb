{
 "cells": [
  {
   "cell_type": "markdown",
   "metadata": {},
   "source": [
    "# SLCosmo Round-trip Test\n",
    "\n",
    "In this notebook we exercise `SLCosmo`'s mock data generation and inference methods to simulate a TDC2 submission and infer a Hubble constant that we can compare with the input value. This is a functional test, in the sense that if our round trip does not get us back to where we started, there must be at least one bug in either or both of the mathematics or code. \n"
   ]
  },
  {
   "cell_type": "code",
   "execution_count": 1,
   "metadata": {
    "collapsed": false
   },
   "outputs": [],
   "source": [
    "%matplotlib inline\n",
    "%load_ext autoreload\n",
    "%autoreload 2"
   ]
  },
  {
   "cell_type": "code",
   "execution_count": 2,
   "metadata": {
    "collapsed": true
   },
   "outputs": [],
   "source": [
    "import desc.slcosmo"
   ]
  },
  {
   "cell_type": "markdown",
   "metadata": {},
   "source": [
    "## Generating a Mock TDC2 Submission"
   ]
  },
  {
   "cell_type": "code",
   "execution_count": 3,
   "metadata": {
    "collapsed": false
   },
   "outputs": [],
   "source": [
    "Lets = desc.slcosmo.SLCosmo()\n",
    "Lets.make_some_mock_data(Nlenses=100, Nsamples=100)\n",
    "Lets.draw_some_prior_samples(Npriorsamples=1000)"
   ]
  },
  {
   "cell_type": "markdown",
   "metadata": {},
   "source": [
    "## The TDC2 Probabilistic Model\n",
    "\n",
    "The figure shows the probabilistic graphical model, derived in the draft TDC2 design paper, of a toy cosmological parameter inference given a set of strong lens measurements. We assume that we have, from high resolution imaging and spectroscopic follow-up, lens models that predict the Fermat potential differences $\\Delta \\phi$ between the image pairs in each of $K$ lens systems."
   ]
  },
  {
   "cell_type": "markdown",
   "metadata": {},
   "source": [
    "<img src=\"pgm.png\" width=50%>"
   ]
  },
  {
   "cell_type": "markdown",
   "metadata": {},
   "source": [
    "We treat the time delays\n",
    "for each lens as parameters whose posterior PDF (given the light curve\n",
    "data) has been characterized as a set of MCMC samples, the output from a Good Team's analysis of the\n",
    "system's light curves.\n",
    "\n",
    "With this PDF in hand, our task is to infer $H_0$ given the measured\n",
    "Fermat potential differences $\\Delta \\phi$. The relationship between the dimensionless the Fermat potential difference and the (true) time delay is\n",
    "\n",
    "$\\Delta t = \\frac{D_{\\Delta t}}{c} \\Delta \\phi$\n",
    "\n",
    "The posterior PDF for $H_0$ given a set of $K$ lenses is\n",
    "\n",
    "${\\rm Pr}(H_0|\\{\\Delta \\phi_k \\}) \\propto {\\rm Pr}(H_0) \\prod_{k=1}^{K} {\\rm Pr}(\\Delta \\phi_k|H_0),$\n",
    "\n",
    "where the likelihood function components are the results of\n",
    "marginalizing over the time delays and time delay distances:\n",
    "\n",
    "${\\rm Pr}(\\Delta \\phi_k|H_0) = \\iint d\\Delta t_k dD_{\\Delta t}\n",
    "      {\\rm Pr}(\\Delta \\phi_k|\\Delta t_k, D_{\\Delta t}^k)\n",
    "      {\\rm Pr}(\\Delta t_k) \\delta(D_{\\Delta t}^k - Q(z_d,z_s)/H_0).$\n",
    "      \n",
    "Here, we have used the definition of time delay distance in terms of the function $Q$, which is a constant for each lens if the only variable cosmological parameter is $H_0$:\n",
    "\n",
    "$D_{\\Delta t} = \\frac{Q(z_d,z_s)}{H_0}$ \n",
    "\n",
    "The integral over the time delay distance is straightforward, while\n",
    "the integral over the time delay can be approximated as a sum over the\n",
    "$N_{\\rm s}$ posterior samples provided by the Good Team:\n",
    "\n",
    "${\\rm Pr}(\\Delta \\phi_k|H_0) \\approx \\frac{1}{N_{\\rm s}}\n",
    "       \\sum_{j=1}^{N_{\\rm s}}\n",
    "         {\\rm Pr}(\\Delta \\phi_k|\\Delta t_k^j, Q(z_d^k,z_s^k)/H_0).$\n",
    "\n",
    "We now have, then, the function that we need to evaluate at each sample time delay\n",
    "$\\Delta t_k$:\n",
    "\n",
    "${\\rm Pr}(\\Delta \\phi_k|\\Delta t_k, Q(z_d^k,z_s^k)/H_0) =\n",
    "        \\frac{1}{\\sqrt{(2\\pi\\sigma_k^2)}} \\exp\\left[ -\\frac{\\chi^2}{2} \\right]$\n",
    "        \n",
    "where $\\chi^2 = \\frac{ \\left( \\Delta \\phi_k - \\frac{c \\Delta t_k H_0}{Q(z_d^k,z_s^k)} \\right)^2 }{\\sigma_k^2}.$"
   ]
  },
  {
   "cell_type": "markdown",
   "metadata": {},
   "source": [
    "## Inference of $H_0$"
   ]
  },
  {
   "cell_type": "code",
   "execution_count": 31,
   "metadata": {
    "collapsed": false
   },
   "outputs": [
    {
     "name": "stdout",
     "output_type": "stream",
     "text": [
      "Wallclock time spent characterizing posterior =  7.0 seconds\n"
     ]
    }
   ],
   "source": [
    "Lets.compute_the_joint_log_likelihood()"
   ]
  },
  {
   "cell_type": "code",
   "execution_count": 32,
   "metadata": {
    "collapsed": false
   },
   "outputs": [
    {
     "name": "stdout",
     "output_type": "stream",
     "text": [
      "H0 = 72.5 +/- 0.7 km/s/Mpc\n",
      "True H0 = 72.3 km/s/Mpc\n"
     ]
    }
   ],
   "source": [
    "Lets.report_the_inferred_cosmological_parameters()"
   ]
  },
  {
   "cell_type": "code",
   "execution_count": 33,
   "metadata": {
    "collapsed": false
   },
   "outputs": [
    {
     "name": "stdout",
     "output_type": "stream",
     "text": [
      "Plot saved to H0posterior.pdf\n"
     ]
    },
    {
     "data": {
      "image/png": "[encoded data removed]",
      "text/plain": [
       "<matplotlib.figure.Figure at 0x105fad190>"
      ]
     },
     "metadata": {},
     "output_type": "display_data"
    }
   ],
   "source": [
    "Lets.plot_the_inferred_cosmological_parameters()"
   ]
  },
  {
   "cell_type": "markdown",
   "metadata": {},
   "source": [
    "## Conclusions\n",
    "\n",
    "* The true value of $H_0$ seems to be recovered accurately\n",
    "* The calculation is somewhat slow, due to the `for` loops over the lenses and the prior samples. For 100 lenses, each with 100 posterior samples, it takes about 7 seconds for a reasonable size set of 1000 prior samples. This is OK for analysis runs, but it could be a bit slow for investigating the number of prior samples to draw, etc."
   ]
  },
  {
   "cell_type": "code",
   "execution_count": null,
   "metadata": {
    "collapsed": true
   },
   "outputs": [],
   "source": []
  }
 ],
 "metadata": {
  "kernelspec": {
   "display_name": "Python 2",
   "language": "python",
   "name": "python2"
  },
  "language_info": {
   "codemirror_mode": {
    "name": "ipython",
    "version": 2
   },
   "file_extension": ".py",
   "mimetype": "text/x-python",
   "name": "python",
   "nbconvert_exporter": "python",
   "pygments_lexer": "ipython2",
   "version": "2.7.12"
  }
 },
 "nbformat": 4,
 "nbformat_minor": 0
}
