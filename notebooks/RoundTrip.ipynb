{
 "cells": [
  {
   "cell_type": "markdown",
   "metadata": {},
   "source": [
    "# SLCosmo Round-trip Test\n",
    "\n",
    "In this notebook we exercise `SLCosmo`'s mock data generation and inference methods to simulate a TDC2 submission and infer a Hubble constant that we can compare with the input value. This is a functional test, in the sense that if our round trip does not get us back to where we started, there must be at least one bug in either or both of the mathematics or code. \n"
   ]
  },
  {
   "cell_type": "markdown",
   "metadata": {},
   "source": [
    "## Generating a Mock TDC2 Submission\n",
    "\n",
    "First we do this."
   ]
  },
  {
   "cell_type": "code",
   "execution_count": 1,
   "metadata": {
    "collapsed": false
   },
   "outputs": [],
   "source": [
    "import desc.slcosmo\n",
    "%matplotlib inline\n",
    "%load_ext autoreload\n",
    "%autoreload 2"
   ]
  },
  {
   "cell_type": "code",
   "execution_count": 2,
   "metadata": {
    "collapsed": false
   },
   "outputs": [],
   "source": [
    "Lets = desc.slcosmo.SLCosmo()\n",
    "Lets.make_some_mock_data(Nlenses=10,Nsamples=1000)\n",
    "Lets.draw_some_prior_samples(100)\n"
   ]
  },
  {
   "cell_type": "markdown",
   "metadata": {},
   "source": [
    "## The TDC2 Probabilistic Model\n",
    "\n",
    "The figure shows the probabilistic graphical model, derived in the draft TDC2 design paper, of a toy cosmological parameter inference given a set of strong lens measurements. We assume that we have, from high resolution imaging and spectroscopic follow-up, lens models that predict the Fermat potential differences $\\Delta \\phi$ between the image pairs in each of $K$ lens systems."
   ]
  },
  {
   "cell_type": "markdown",
   "metadata": {},
   "source": [
    "<img src=\"pgm.png\" width=50%>"
   ]
  },
  {
   "cell_type": "markdown",
   "metadata": {},
   "source": [
    "We treat the time delays\n",
    "for each lens as parameters whose posterior PDF (given the light curve\n",
    "data) can be characterized either as a set of MCMC samples, or as a\n",
    "multivariate Gaussian. This would be the output from an analysis of the\n",
    "system's light curves.\n",
    "\n",
    "With this PDF in hand, our task is to infer $H_0$ given the measured\n",
    "Fermat potential differences $\\Delta \\phi$.\n",
    "The posterior PDF for $H_0$ given a set of $K$ lenses is\n",
    "\\begin{equation}\n",
    "    \\pr(H_0|\\{\\Delta \\phi_k \\}) \\propto \\pr(H_0) \\prod_{k=1}^{K} \\pr(\\Delta \\phi_k|H_0),\n",
    "\\end{equation}\n",
    "where the likelihood function components are the results of\n",
    "marginalizing over the time delays and time delay distances:\n",
    "\\begin{equation}\n",
    "    \\pr(\\Delta \\phi_k|H_0) = \\iint d\\Delta t_k d\\Ddt\n",
    "      \\pr(\\Delta \\phi_k|\\Delta t_k, \\Ddt^k)\n",
    "      \\pr(\\Delta t_k) \\delta(\\Ddt^k - Q(\\zd,\\zs)/H_0).\n",
    "      \\label{eq:marginalization}\n",
    "\\end{equation}\n",
    "The integral over the time delay distance is straightforward, while\n",
    "the integral over the time delay can be approximated as a sum over the\n",
    "$N_{\\rm s}$ posterior samples provided by the Good Team:\n",
    "\\begin{equation}\n",
    "    \\pr(\\Delta \\phi_k|H_0) \\approx \\frac{1}{N_{\\rm s}}\n",
    "       \\sum_{j=1}^{N_{\\rm s}}\n",
    "         \\pr(\\Delta \\phi_k|\\Delta t_k^j, Q(\\zd^k,\\zs^k)/H_0).\n",
    "           \\label{eq:sumoversamples}\n",
    "\\end{equation}\n",
    "\n",
    "We now have, then, the function that we need to evaluate at each sample\n",
    "$\\Delta t_k$ value, in Equation~\\ref{eq:sumoversamples}:\n",
    "\\begin{align}\n",
    "    \\pr(\\Delta \\phi_k|\\Delta t_k, Q(\\zd^k,\\zs^k)/H_0) &=\n",
    "        \\frac{1}{\\sqrt{(2\\pi\\sigma_k^2)}} \\exp\\left[ -\\frac{\\chi^2}{2} \\right] \\\\\n",
    "    {\\rm where\\;\\;\\;} \\chi^2 &= \\frac{ \\left( \\Delta \\phi_k - \\frac{c H_0 \\Delta t_k}{Q(\\zd^k,\\zs^k)} \\right)^2 }{\\sigma_k^2}.\n",
    "\\end{align}"
   ]
  },
  {
   "cell_type": "markdown",
   "metadata": {},
   "source": [
    "## Inference of $H_0$\n",
    "\n",
    "Now we do this."
   ]
  },
  {
   "cell_type": "code",
   "execution_count": 3,
   "metadata": {
    "collapsed": false
   },
   "outputs": [
    {
     "name": "stdout",
     "output_type": "stream",
     "text": [
      "Posterior mean H0 =  54.1280235705\n"
     ]
    }
   ],
   "source": [
    "Lets.compute_the_joint_log_likelihood()\n",
    "Lets.report_the_inferred_cosmological_parameters()"
   ]
  },
  {
   "cell_type": "code",
   "execution_count": 4,
   "metadata": {
    "collapsed": false
   },
   "outputs": [
    {
     "data": {
      "image/png": "[encoded data removed]",
      "text/plain": [
       "<matplotlib.figure.Figure at 0x10bf92090>"
      ]
     },
     "metadata": {},
     "output_type": "display_data"
    }
   ],
   "source": [
    "Lets.plot_the_inferred_cosmological_parameters()"
   ]
  },
  {
   "cell_type": "markdown",
   "metadata": {},
   "source": [
    "## Conclusions\n",
    "\n",
    "* There's a bug in the chi squared"
   ]
  },
  {
   "cell_type": "code",
   "execution_count": null,
   "metadata": {
    "collapsed": true
   },
   "outputs": [],
   "source": []
  }
 ],
 "metadata": {
  "kernelspec": {
   "display_name": "Python 2",
   "language": "python",
   "name": "python2"
  },
  "language_info": {
   "codemirror_mode": {
    "name": "ipython",
    "version": 2
   },
   "file_extension": ".py",
   "mimetype": "text/x-python",
   "name": "python",
   "nbconvert_exporter": "python",
   "pygments_lexer": "ipython2",
   "version": "2.7.12"
  }
 },
 "nbformat": 4,
 "nbformat_minor": 0
}
